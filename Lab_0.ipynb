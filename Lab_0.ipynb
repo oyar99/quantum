{
  "cells": [
    {
      "cell_type": "markdown",
      "metadata": {
        "id": "view-in-github",
        "colab_type": "text"
      },
      "source": [
        "<a href=\"https://colab.research.google.com/github/oyar99/quantum/blob/main/Lab_0.ipynb\" target=\"_parent\"><img src=\"https://colab.research.google.com/assets/colab-badge.svg\" alt=\"Open In Colab\"/></a>"
      ]
    },
    {
      "cell_type": "code",
      "execution_count": null,
      "metadata": {
        "colab": {
          "base_uri": "https://localhost:8080/"
        },
        "id": "CodJYqS68xZc",
        "outputId": "40fdbaf7-95e5-461b-ad58-263bb18dcd4a"
      },
      "outputs": [
        {
          "output_type": "stream",
          "name": "stdout",
          "text": [
            "Found existing installation: qiskit 1.2.0\n",
            "Uninstalling qiskit-1.2.0:\n",
            "  Successfully uninstalled qiskit-1.2.0\n",
            "Found existing installation: qiskit-terra 0.46.2\n",
            "Uninstalling qiskit-terra-0.46.2:\n",
            "  Successfully uninstalled qiskit-terra-0.46.2\n",
            "Found existing installation: qiskit-aer 0.15.0\n",
            "Uninstalling qiskit-aer-0.15.0:\n",
            "  Successfully uninstalled qiskit-aer-0.15.0\n",
            "Collecting qiskit==1.2\n",
            "  Downloading qiskit-1.2.0-cp38-abi3-manylinux_2_17_x86_64.manylinux2014_x86_64.whl.metadata (12 kB)\n",
            "Requirement already satisfied: rustworkx>=0.15.0 in /usr/local/lib/python3.10/dist-packages (from qiskit==1.2) (0.15.1)\n",
            "Requirement already satisfied: numpy<3,>=1.17 in /usr/local/lib/python3.10/dist-packages (from qiskit==1.2) (1.26.4)\n",
            "Requirement already satisfied: scipy>=1.5 in /usr/local/lib/python3.10/dist-packages (from qiskit==1.2) (1.13.1)\n",
            "Requirement already satisfied: sympy>=1.3 in /usr/local/lib/python3.10/dist-packages (from qiskit==1.2) (1.13.2)\n",
            "Requirement already satisfied: dill>=0.3 in /usr/local/lib/python3.10/dist-packages (from qiskit==1.2) (0.3.8)\n",
            "Requirement already satisfied: python-dateutil>=2.8.0 in /usr/local/lib/python3.10/dist-packages (from qiskit==1.2) (2.8.2)\n",
            "Requirement already satisfied: stevedore>=3.0.0 in /usr/local/lib/python3.10/dist-packages (from qiskit==1.2) (5.3.0)\n",
            "Requirement already satisfied: typing-extensions in /usr/local/lib/python3.10/dist-packages (from qiskit==1.2) (4.12.2)\n",
            "Requirement already satisfied: symengine>=0.11 in /usr/local/lib/python3.10/dist-packages (from qiskit==1.2) (0.11.0)\n",
            "Requirement already satisfied: six>=1.5 in /usr/local/lib/python3.10/dist-packages (from python-dateutil>=2.8.0->qiskit==1.2) (1.16.0)\n",
            "Requirement already satisfied: pbr>=2.0.0 in /usr/local/lib/python3.10/dist-packages (from stevedore>=3.0.0->qiskit==1.2) (6.1.0)\n",
            "Requirement already satisfied: mpmath<1.4,>=1.1.0 in /usr/local/lib/python3.10/dist-packages (from sympy>=1.3->qiskit==1.2) (1.3.0)\n",
            "Downloading qiskit-1.2.0-cp38-abi3-manylinux_2_17_x86_64.manylinux2014_x86_64.whl (4.8 MB)\n",
            "\u001b[2K   \u001b[90m━━━━━━━━━━━━━━━━━━━━━━━━━━━━━━━━━━━━━━━━\u001b[0m \u001b[32m4.8/4.8 MB\u001b[0m \u001b[31m163.9 MB/s\u001b[0m eta \u001b[36m0:00:00\u001b[0m\n",
            "\u001b[?25hInstalling collected packages: qiskit\n",
            "Successfully installed qiskit-1.2.0\n",
            "Collecting qiskit-aer\n",
            "  Downloading qiskit_aer-0.15.0-cp310-cp310-manylinux_2_17_x86_64.manylinux2014_x86_64.whl.metadata (8.0 kB)\n",
            "Requirement already satisfied: qiskit>=1.1.0 in /usr/local/lib/python3.10/dist-packages (from qiskit-aer) (1.2.0)\n",
            "Requirement already satisfied: numpy>=1.16.3 in /usr/local/lib/python3.10/dist-packages (from qiskit-aer) (1.26.4)\n",
            "Requirement already satisfied: scipy>=1.0 in /usr/local/lib/python3.10/dist-packages (from qiskit-aer) (1.13.1)\n",
            "Requirement already satisfied: psutil>=5 in /usr/local/lib/python3.10/dist-packages (from qiskit-aer) (5.9.5)\n",
            "Requirement already satisfied: rustworkx>=0.15.0 in /usr/local/lib/python3.10/dist-packages (from qiskit>=1.1.0->qiskit-aer) (0.15.1)\n",
            "Requirement already satisfied: sympy>=1.3 in /usr/local/lib/python3.10/dist-packages (from qiskit>=1.1.0->qiskit-aer) (1.13.2)\n",
            "Requirement already satisfied: dill>=0.3 in /usr/local/lib/python3.10/dist-packages (from qiskit>=1.1.0->qiskit-aer) (0.3.8)\n",
            "Requirement already satisfied: python-dateutil>=2.8.0 in /usr/local/lib/python3.10/dist-packages (from qiskit>=1.1.0->qiskit-aer) (2.8.2)\n",
            "Requirement already satisfied: stevedore>=3.0.0 in /usr/local/lib/python3.10/dist-packages (from qiskit>=1.1.0->qiskit-aer) (5.3.0)\n",
            "Requirement already satisfied: typing-extensions in /usr/local/lib/python3.10/dist-packages (from qiskit>=1.1.0->qiskit-aer) (4.12.2)\n",
            "Requirement already satisfied: symengine>=0.11 in /usr/local/lib/python3.10/dist-packages (from qiskit>=1.1.0->qiskit-aer) (0.11.0)\n",
            "Requirement already satisfied: six>=1.5 in /usr/local/lib/python3.10/dist-packages (from python-dateutil>=2.8.0->qiskit>=1.1.0->qiskit-aer) (1.16.0)\n",
            "Requirement already satisfied: pbr>=2.0.0 in /usr/local/lib/python3.10/dist-packages (from stevedore>=3.0.0->qiskit>=1.1.0->qiskit-aer) (6.1.0)\n",
            "Requirement already satisfied: mpmath<1.4,>=1.1.0 in /usr/local/lib/python3.10/dist-packages (from sympy>=1.3->qiskit>=1.1.0->qiskit-aer) (1.3.0)\n",
            "Downloading qiskit_aer-0.15.0-cp310-cp310-manylinux_2_17_x86_64.manylinux2014_x86_64.whl (12.3 MB)\n",
            "\u001b[2K   \u001b[90m━━━━━━━━━━━━━━━━━━━━━━━━━━━━━━━━━━━━━━━━\u001b[0m \u001b[32m12.3/12.3 MB\u001b[0m \u001b[31m228.3 MB/s\u001b[0m eta \u001b[36m0:00:00\u001b[0m\n",
            "\u001b[?25hInstalling collected packages: qiskit-aer\n",
            "Successfully installed qiskit-aer-0.15.0\n",
            "Name: qiskit\n",
            "Version: 1.2.0\n",
            "Summary: An open-source SDK for working with quantum computers at the level of extended quantum circuits, operators, and primitives.\n",
            "Home-page: https://www.ibm.com/quantum/qiskit\n",
            "Author: \n",
            "Author-email: Qiskit Development Team <qiskit@us.ibm.com>\n",
            "License: Apache 2.0\n",
            "Location: /usr/local/lib/python3.10/dist-packages\n",
            "Requires: dill, numpy, python-dateutil, rustworkx, scipy, stevedore, symengine, sympy, typing-extensions\n",
            "Required-by: qiskit-aer\n",
            "1.2.0\n"
          ]
        }
      ],
      "source": [
        "!pip uninstall --yes qiskit qiskit-terra qiskit-aer\n",
        "\n",
        "!pip install qiskit==1.2 --no-cache-dir\n",
        "!pip install qiskit-aer --no-cache-dir\n",
        "!pip show qiskit\n",
        "import qiskit\n",
        "print(qiskit.__version__)"
      ]
    },
    {
      "cell_type": "code",
      "execution_count": null,
      "metadata": {
        "colab": {
          "base_uri": "https://localhost:8080/"
        },
        "id": "caTRBY7JU3if",
        "outputId": "c8c83cfe-fea6-4d3c-a540-b5cd555a4391"
      },
      "outputs": [
        {
          "output_type": "stream",
          "name": "stdout",
          "text": [
            "     ┌───┐┌─┐                     \n",
            "q_0: ┤ H ├┤M├─────────────────────\n",
            "     ├───┤└╥┘┌─┐                  \n",
            "q_1: ┤ H ├─╫─┤M├──────────────────\n",
            "     ├───┤ ║ └╥┘┌─┐               \n",
            "q_2: ┤ H ├─╫──╫─┤M├───────────────\n",
            "     ├───┤ ║  ║ └╥┘┌─┐            \n",
            "q_3: ┤ H ├─╫──╫──╫─┤M├────────────\n",
            "     ├───┤ ║  ║  ║ └╥┘┌─┐         \n",
            "q_4: ┤ H ├─╫──╫──╫──╫─┤M├─────────\n",
            "     ├───┤ ║  ║  ║  ║ └╥┘┌─┐      \n",
            "q_5: ┤ H ├─╫──╫──╫──╫──╫─┤M├──────\n",
            "     ├───┤ ║  ║  ║  ║  ║ └╥┘┌─┐   \n",
            "q_6: ┤ H ├─╫──╫──╫──╫──╫──╫─┤M├───\n",
            "     ├───┤ ║  ║  ║  ║  ║  ║ └╥┘┌─┐\n",
            "q_7: ┤ H ├─╫──╫──╫──╫──╫──╫──╫─┤M├\n",
            "     └───┘ ║  ║  ║  ║  ║  ║  ║ └╥┘\n",
            "c: 8/══════╩══╩══╩══╩══╩══╩══╩══╩═\n",
            "           0  1  2  3  4  5  6  7 \n",
            "El resultado es: {'11000101': 1}\n"
          ]
        }
      ],
      "source": [
        "import qiskit\n",
        "from qiskit import QuantumCircuit, QuantumRegister, transpile\n",
        "from qiskit_aer import Aer\n",
        "\n",
        "# Modifique el siguiente código para que mida como resultado un grupo de\n",
        "# 8 bits aleatorio. Algo como {'10100100': 1}\n",
        "\n",
        "qr0 = qiskit.QuantumRegister(#)\n",
        "cr0 = qiskit.ClassicalRegister(#)\n",
        "\n",
        "qc0 = qiskit.QuantumCircuit(#, #)\n",
        "\n",
        "\n",
        "# hint: qc0.h(#)\n",
        "\n",
        "qc0.measure(range(8), range(8))\n",
        "print(qc0.draw())\n",
        "backend = Aer.get_backend('aer_simulator')\n",
        "job=backend.run(qc0, max_circuits=1, shots=1)\n",
        "result=job.result()\n",
        "counts=result.get_counts(qc0)\n",
        "print(\"El resultado es:\",counts)"
      ]
    }
  ],
  "metadata": {
    "colab": {
      "provenance": [],
      "include_colab_link": true
    },
    "kernelspec": {
      "display_name": "Python 3",
      "language": "python",
      "name": "python3"
    },
    "language_info": {
      "codemirror_mode": {
        "name": "ipython",
        "version": 3
      },
      "file_extension": ".py",
      "mimetype": "text/x-python",
      "name": "python",
      "nbconvert_exporter": "python",
      "pygments_lexer": "ipython3",
      "version": "3.7.4"
    }
  },
  "nbformat": 4,
  "nbformat_minor": 0
}